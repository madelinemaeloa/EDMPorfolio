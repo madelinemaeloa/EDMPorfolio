{
 "cells": [
  {
   "cell_type": "markdown",
   "id": "92adf350",
   "metadata": {},
   "source": [
    "# ICE 7: Diagnostic Metrics\n",
    "#### Course: HUDK 4050, Week 10\n",
    "#### Author: Madeline Maeloa"
   ]
  },
  {
   "cell_type": "markdown",
   "id": "60d91e57",
   "metadata": {},
   "source": [
    "### For this ICE, I will be using a confusion matrix to evaluate the model I built in ACA2. "
   ]
  },
  {
   "cell_type": "markdown",
   "id": "ffc561d7",
   "metadata": {},
   "source": [
    "## Import and Clean"
   ]
  },
  {
   "cell_type": "code",
   "execution_count": 1,
   "id": "712d293f",
   "metadata": {},
   "outputs": [],
   "source": [
    "# Importing necessary modules\n",
    "import pandas as pd\n",
    "import matplotlib.pyplot as plt\n",
    "from sklearn.linear_model import LogisticRegression"
   ]
  },
  {
   "cell_type": "code",
   "execution_count": 2,
   "id": "96cfbf48",
   "metadata": {},
   "outputs": [
    {
     "data": {
      "text/html": [
       "<div>\n",
       "<style scoped>\n",
       "    .dataframe tbody tr th:only-of-type {\n",
       "        vertical-align: middle;\n",
       "    }\n",
       "\n",
       "    .dataframe tbody tr th {\n",
       "        vertical-align: top;\n",
       "    }\n",
       "\n",
       "    .dataframe thead th {\n",
       "        text-align: right;\n",
       "    }\n",
       "</style>\n",
       "<table border=\"1\" class=\"dataframe\">\n",
       "  <thead>\n",
       "    <tr style=\"text-align: right;\">\n",
       "      <th></th>\n",
       "      <th>UNIQUEID</th>\n",
       "      <th>SCHOOL</th>\n",
       "      <th>Class</th>\n",
       "      <th>GRADE</th>\n",
       "      <th>CODER</th>\n",
       "      <th>STUDENTID</th>\n",
       "      <th>Gender</th>\n",
       "      <th>OBSNUM</th>\n",
       "      <th>totalobs-forsession</th>\n",
       "      <th>Activity</th>\n",
       "      <th>ONTASK</th>\n",
       "      <th>TRANSITIONS</th>\n",
       "      <th>NumACTIVITIES</th>\n",
       "      <th>FORMATchanges</th>\n",
       "      <th>NumFORMATS</th>\n",
       "      <th>Obsv/act</th>\n",
       "      <th>Transitions/Durations</th>\n",
       "      <th>Total Time</th>\n",
       "    </tr>\n",
       "  </thead>\n",
       "  <tbody>\n",
       "    <tr>\n",
       "      <th>0</th>\n",
       "      <td>34880</td>\n",
       "      <td>A</td>\n",
       "      <td>T8T</td>\n",
       "      <td>2</td>\n",
       "      <td>Z</td>\n",
       "      <td>965160</td>\n",
       "      <td>1</td>\n",
       "      <td>12</td>\n",
       "      <td>224</td>\n",
       "      <td>Wholecarpet</td>\n",
       "      <td>Y</td>\n",
       "      <td>1</td>\n",
       "      <td>2</td>\n",
       "      <td>1</td>\n",
       "      <td>2</td>\n",
       "      <td>1390.500000</td>\n",
       "      <td>0.000664</td>\n",
       "      <td>1027</td>\n",
       "    </tr>\n",
       "    <tr>\n",
       "      <th>1</th>\n",
       "      <td>32344</td>\n",
       "      <td>B</td>\n",
       "      <td>T9U</td>\n",
       "      <td>3</td>\n",
       "      <td>Z</td>\n",
       "      <td>11665</td>\n",
       "      <td>1</td>\n",
       "      <td>11</td>\n",
       "      <td>225</td>\n",
       "      <td>Individual</td>\n",
       "      <td>Y</td>\n",
       "      <td>2</td>\n",
       "      <td>3</td>\n",
       "      <td>2</td>\n",
       "      <td>3</td>\n",
       "      <td>890.333333</td>\n",
       "      <td>0.002545</td>\n",
       "      <td>213</td>\n",
       "    </tr>\n",
       "    <tr>\n",
       "      <th>2</th>\n",
       "      <td>14774</td>\n",
       "      <td>B</td>\n",
       "      <td>T9Q</td>\n",
       "      <td>0</td>\n",
       "      <td>Z</td>\n",
       "      <td>187441</td>\n",
       "      <td>0</td>\n",
       "      <td>21</td>\n",
       "      <td>374</td>\n",
       "      <td>Smallgroup</td>\n",
       "      <td>Y</td>\n",
       "      <td>3</td>\n",
       "      <td>4</td>\n",
       "      <td>1</td>\n",
       "      <td>2</td>\n",
       "      <td>770.500000</td>\n",
       "      <td>0.001439</td>\n",
       "      <td>2078</td>\n",
       "    </tr>\n",
       "    <tr>\n",
       "      <th>3</th>\n",
       "      <td>19468</td>\n",
       "      <td>A</td>\n",
       "      <td>T8S</td>\n",
       "      <td>1</td>\n",
       "      <td>Z</td>\n",
       "      <td>402837</td>\n",
       "      <td>0</td>\n",
       "      <td>17</td>\n",
       "      <td>320</td>\n",
       "      <td>Wholedesks</td>\n",
       "      <td>Y</td>\n",
       "      <td>5</td>\n",
       "      <td>6</td>\n",
       "      <td>0</td>\n",
       "      <td>1</td>\n",
       "      <td>592.333333</td>\n",
       "      <td>0.001407</td>\n",
       "      <td>3229</td>\n",
       "    </tr>\n",
       "    <tr>\n",
       "      <th>4</th>\n",
       "      <td>31570</td>\n",
       "      <td>B</td>\n",
       "      <td>T9T</td>\n",
       "      <td>2</td>\n",
       "      <td>Z</td>\n",
       "      <td>300647</td>\n",
       "      <td>1</td>\n",
       "      <td>2</td>\n",
       "      <td>35</td>\n",
       "      <td>Wholedesks</td>\n",
       "      <td>Y</td>\n",
       "      <td>2</td>\n",
       "      <td>3</td>\n",
       "      <td>1</td>\n",
       "      <td>2</td>\n",
       "      <td>870.000000</td>\n",
       "      <td>0.005882</td>\n",
       "      <td>260</td>\n",
       "    </tr>\n",
       "    <tr>\n",
       "      <th>...</th>\n",
       "      <td>...</td>\n",
       "      <td>...</td>\n",
       "      <td>...</td>\n",
       "      <td>...</td>\n",
       "      <td>...</td>\n",
       "      <td>...</td>\n",
       "      <td>...</td>\n",
       "      <td>...</td>\n",
       "      <td>...</td>\n",
       "      <td>...</td>\n",
       "      <td>...</td>\n",
       "      <td>...</td>\n",
       "      <td>...</td>\n",
       "      <td>...</td>\n",
       "      <td>...</td>\n",
       "      <td>...</td>\n",
       "      <td>...</td>\n",
       "      <td>...</td>\n",
       "    </tr>\n",
       "    <tr>\n",
       "      <th>22179</th>\n",
       "      <td>30762</td>\n",
       "      <td>B</td>\n",
       "      <td>T9Q</td>\n",
       "      <td>0</td>\n",
       "      <td>Z</td>\n",
       "      <td>749212</td>\n",
       "      <td>1</td>\n",
       "      <td>5</td>\n",
       "      <td>95</td>\n",
       "      <td>Wholecarpet</td>\n",
       "      <td>Y</td>\n",
       "      <td>2</td>\n",
       "      <td>3</td>\n",
       "      <td>2</td>\n",
       "      <td>3</td>\n",
       "      <td>969.000000</td>\n",
       "      <td>0.002959</td>\n",
       "      <td>652</td>\n",
       "    </tr>\n",
       "    <tr>\n",
       "      <th>22180</th>\n",
       "      <td>14611</td>\n",
       "      <td>B</td>\n",
       "      <td>T9Q</td>\n",
       "      <td>0</td>\n",
       "      <td>Z</td>\n",
       "      <td>87701</td>\n",
       "      <td>0</td>\n",
       "      <td>12</td>\n",
       "      <td>211</td>\n",
       "      <td>Smallgroup</td>\n",
       "      <td>N</td>\n",
       "      <td>3</td>\n",
       "      <td>4</td>\n",
       "      <td>1</td>\n",
       "      <td>2</td>\n",
       "      <td>770.500000</td>\n",
       "      <td>0.001439</td>\n",
       "      <td>708</td>\n",
       "    </tr>\n",
       "    <tr>\n",
       "      <th>22181</th>\n",
       "      <td>20432</td>\n",
       "      <td>A</td>\n",
       "      <td>T8VQ</td>\n",
       "      <td>4</td>\n",
       "      <td>Z</td>\n",
       "      <td>130859</td>\n",
       "      <td>0</td>\n",
       "      <td>6</td>\n",
       "      <td>95</td>\n",
       "      <td>Smallgroup</td>\n",
       "      <td>N</td>\n",
       "      <td>1</td>\n",
       "      <td>2</td>\n",
       "      <td>0</td>\n",
       "      <td>1</td>\n",
       "      <td>1060.000000</td>\n",
       "      <td>0.000472</td>\n",
       "      <td>362</td>\n",
       "    </tr>\n",
       "    <tr>\n",
       "      <th>22182</th>\n",
       "      <td>38264</td>\n",
       "      <td>E</td>\n",
       "      <td>T6Q</td>\n",
       "      <td>0</td>\n",
       "      <td>Y</td>\n",
       "      <td>874565</td>\n",
       "      <td>1</td>\n",
       "      <td>10</td>\n",
       "      <td>147</td>\n",
       "      <td>Wholedesks</td>\n",
       "      <td>Y</td>\n",
       "      <td>1</td>\n",
       "      <td>2</td>\n",
       "      <td>1</td>\n",
       "      <td>2</td>\n",
       "      <td>1204.500000</td>\n",
       "      <td>0.000838</td>\n",
       "      <td>60</td>\n",
       "    </tr>\n",
       "    <tr>\n",
       "      <th>22183</th>\n",
       "      <td>21734</td>\n",
       "      <td>A</td>\n",
       "      <td>T8R</td>\n",
       "      <td>4</td>\n",
       "      <td>Z</td>\n",
       "      <td>468563</td>\n",
       "      <td>0</td>\n",
       "      <td>3</td>\n",
       "      <td>49</td>\n",
       "      <td>Wholedesks</td>\n",
       "      <td>Y</td>\n",
       "      <td>0</td>\n",
       "      <td>1</td>\n",
       "      <td>0</td>\n",
       "      <td>1</td>\n",
       "      <td>2076.000000</td>\n",
       "      <td>0.000000</td>\n",
       "      <td>803</td>\n",
       "    </tr>\n",
       "  </tbody>\n",
       "</table>\n",
       "<p>22184 rows × 18 columns</p>\n",
       "</div>"
      ],
      "text/plain": [
       "       UNIQUEID SCHOOL Class  GRADE CODER  STUDENTID  Gender  OBSNUM  \\\n",
       "0         34880      A   T8T      2     Z     965160       1      12   \n",
       "1         32344      B   T9U      3     Z      11665       1      11   \n",
       "2         14774      B   T9Q      0     Z     187441       0      21   \n",
       "3         19468      A   T8S      1     Z     402837       0      17   \n",
       "4         31570      B   T9T      2     Z     300647       1       2   \n",
       "...         ...    ...   ...    ...   ...        ...     ...     ...   \n",
       "22179     30762      B   T9Q      0     Z     749212       1       5   \n",
       "22180     14611      B   T9Q      0     Z      87701       0      12   \n",
       "22181     20432      A  T8VQ      4     Z     130859       0       6   \n",
       "22182     38264      E   T6Q      0     Y     874565       1      10   \n",
       "22183     21734      A   T8R      4     Z     468563       0       3   \n",
       "\n",
       "       totalobs-forsession     Activity ONTASK  TRANSITIONS  NumACTIVITIES  \\\n",
       "0                      224  Wholecarpet      Y            1              2   \n",
       "1                      225   Individual      Y            2              3   \n",
       "2                      374   Smallgroup      Y            3              4   \n",
       "3                      320   Wholedesks      Y            5              6   \n",
       "4                       35   Wholedesks      Y            2              3   \n",
       "...                    ...          ...    ...          ...            ...   \n",
       "22179                   95  Wholecarpet      Y            2              3   \n",
       "22180                  211   Smallgroup      N            3              4   \n",
       "22181                   95   Smallgroup      N            1              2   \n",
       "22182                  147   Wholedesks      Y            1              2   \n",
       "22183                   49   Wholedesks      Y            0              1   \n",
       "\n",
       "       FORMATchanges  NumFORMATS     Obsv/act  Transitions/Durations  \\\n",
       "0                  1           2  1390.500000               0.000664   \n",
       "1                  2           3   890.333333               0.002545   \n",
       "2                  1           2   770.500000               0.001439   \n",
       "3                  0           1   592.333333               0.001407   \n",
       "4                  1           2   870.000000               0.005882   \n",
       "...              ...         ...          ...                    ...   \n",
       "22179              2           3   969.000000               0.002959   \n",
       "22180              1           2   770.500000               0.001439   \n",
       "22181              0           1  1060.000000               0.000472   \n",
       "22182              1           2  1204.500000               0.000838   \n",
       "22183              0           1  2076.000000               0.000000   \n",
       "\n",
       "       Total Time  \n",
       "0            1027  \n",
       "1             213  \n",
       "2            2078  \n",
       "3            3229  \n",
       "4             260  \n",
       "...           ...  \n",
       "22179         652  \n",
       "22180         708  \n",
       "22181         362  \n",
       "22182          60  \n",
       "22183         803  \n",
       "\n",
       "[22184 rows x 18 columns]"
      ]
     },
     "execution_count": 2,
     "metadata": {},
     "output_type": "execute_result"
    }
   ],
   "source": [
    "# Import the dataset\n",
    "trainingData = pd.read_csv(\"aca2_dataset_training.csv\")\n",
    "trainingData"
   ]
  },
  {
   "cell_type": "code",
   "execution_count": 3,
   "id": "575e67c6",
   "metadata": {},
   "outputs": [
    {
     "data": {
      "text/html": [
       "<div>\n",
       "<style scoped>\n",
       "    .dataframe tbody tr th:only-of-type {\n",
       "        vertical-align: middle;\n",
       "    }\n",
       "\n",
       "    .dataframe tbody tr th {\n",
       "        vertical-align: top;\n",
       "    }\n",
       "\n",
       "    .dataframe thead th {\n",
       "        text-align: right;\n",
       "    }\n",
       "</style>\n",
       "<table border=\"1\" class=\"dataframe\">\n",
       "  <thead>\n",
       "    <tr style=\"text-align: right;\">\n",
       "      <th></th>\n",
       "      <th>NumACTIVITIES</th>\n",
       "      <th>ONTASK</th>\n",
       "    </tr>\n",
       "  </thead>\n",
       "  <tbody>\n",
       "    <tr>\n",
       "      <th>0</th>\n",
       "      <td>2</td>\n",
       "      <td>Y</td>\n",
       "    </tr>\n",
       "    <tr>\n",
       "      <th>1</th>\n",
       "      <td>3</td>\n",
       "      <td>Y</td>\n",
       "    </tr>\n",
       "    <tr>\n",
       "      <th>2</th>\n",
       "      <td>4</td>\n",
       "      <td>Y</td>\n",
       "    </tr>\n",
       "    <tr>\n",
       "      <th>3</th>\n",
       "      <td>6</td>\n",
       "      <td>Y</td>\n",
       "    </tr>\n",
       "    <tr>\n",
       "      <th>4</th>\n",
       "      <td>3</td>\n",
       "      <td>Y</td>\n",
       "    </tr>\n",
       "    <tr>\n",
       "      <th>...</th>\n",
       "      <td>...</td>\n",
       "      <td>...</td>\n",
       "    </tr>\n",
       "    <tr>\n",
       "      <th>22179</th>\n",
       "      <td>3</td>\n",
       "      <td>Y</td>\n",
       "    </tr>\n",
       "    <tr>\n",
       "      <th>22180</th>\n",
       "      <td>4</td>\n",
       "      <td>N</td>\n",
       "    </tr>\n",
       "    <tr>\n",
       "      <th>22181</th>\n",
       "      <td>2</td>\n",
       "      <td>N</td>\n",
       "    </tr>\n",
       "    <tr>\n",
       "      <th>22182</th>\n",
       "      <td>2</td>\n",
       "      <td>Y</td>\n",
       "    </tr>\n",
       "    <tr>\n",
       "      <th>22183</th>\n",
       "      <td>1</td>\n",
       "      <td>Y</td>\n",
       "    </tr>\n",
       "  </tbody>\n",
       "</table>\n",
       "<p>22184 rows × 2 columns</p>\n",
       "</div>"
      ],
      "text/plain": [
       "       NumACTIVITIES ONTASK\n",
       "0                  2      Y\n",
       "1                  3      Y\n",
       "2                  4      Y\n",
       "3                  6      Y\n",
       "4                  3      Y\n",
       "...              ...    ...\n",
       "22179              3      Y\n",
       "22180              4      N\n",
       "22181              2      N\n",
       "22182              2      Y\n",
       "22183              1      Y\n",
       "\n",
       "[22184 rows x 2 columns]"
      ]
     },
     "execution_count": 3,
     "metadata": {},
     "output_type": "execute_result"
    }
   ],
   "source": [
    "# Creates a new table called classData with variables to include in classifier\n",
    "classData = trainingData[['NumACTIVITIES','ONTASK']]\n",
    "classData"
   ]
  },
  {
   "cell_type": "markdown",
   "id": "36f5a9d2",
   "metadata": {},
   "source": [
    "## Naive Bayes Model from ACA2"
   ]
  },
  {
   "cell_type": "code",
   "execution_count": null,
   "id": "fff73af0",
   "metadata": {},
   "outputs": [],
   "source": [
    "# Here we are creating the same Naive Bayes Model that was done in ACA2"
   ]
  },
  {
   "cell_type": "code",
   "execution_count": 4,
   "id": "95e530e6",
   "metadata": {},
   "outputs": [],
   "source": [
    "# Import GaussianNB from sklearn and creates Xs and Y\n",
    "from sklearn.naive_bayes import GaussianNB\n",
    "\n",
    "Xs_NB = classData.drop('ONTASK', axis = 1)\n",
    "ONTASK = classData['ONTASK']"
   ]
  },
  {
   "cell_type": "code",
   "execution_count": 5,
   "id": "3dbead78",
   "metadata": {},
   "outputs": [
    {
     "data": {
      "text/plain": [
       "GaussianNB()"
      ]
     },
     "execution_count": 5,
     "metadata": {},
     "output_type": "execute_result"
    }
   ],
   "source": [
    "# Initialize the classification naive Bayes model \n",
    "classNBModel = GaussianNB()\n",
    "classNBModel.fit(Xs_NB, ONTASK)"
   ]
  },
  {
   "cell_type": "code",
   "execution_count": 6,
   "id": "1084b104",
   "metadata": {},
   "outputs": [
    {
     "name": "stdout",
     "output_type": "stream",
     "text": [
      "The accuracy is 67.3368193292463 %\n"
     ]
    }
   ],
   "source": [
    "# Use predict() to use given Xs to predict the given Y\n",
    "# Use list comprehension to see if each element in certified_pred matches elements in certified\n",
    "# Results return true (1) or false (0)\n",
    "# Take summation of them and divide by length of the list to get accuracy \n",
    "ONTASK_pred = classNBModel.predict(Xs_NB)\n",
    "performance = [item in ONTASK_pred for item in ONTASK]\n",
    "print('The accuracy is', sum(performance)/len(performance)*100, '%')"
   ]
  },
  {
   "cell_type": "markdown",
   "id": "cecb0968",
   "metadata": {},
   "source": [
    "## Model Evaluation"
   ]
  },
  {
   "cell_type": "code",
   "execution_count": 15,
   "id": "c28383d9",
   "metadata": {},
   "outputs": [],
   "source": [
    "# We will be using a confusion matrix to check model performance\n",
    "# True positive = you predicted positive and it's true \n",
    "# True negative = you predicted negative and it's true\n",
    "# False positive (type 1 error) = you predicted positive but it's false\n",
    "# False negative (type 2 error) = you predicted negative but it's true\n",
    "# Accuracy = (TP+TN)/total"
   ]
  },
  {
   "cell_type": "markdown",
   "id": "5e4110d3",
   "metadata": {},
   "source": [
    "#### Step 1: split data into 2 sets (80:20)"
   ]
  },
  {
   "cell_type": "code",
   "execution_count": 9,
   "id": "c02c3834",
   "metadata": {},
   "outputs": [],
   "source": [
    "from sklearn.model_selection import train_test_split\n",
    "Xs_TNB = classData.drop('ONTASK', axis = 1)\n",
    "ONTASK_TNB = classData['ONTASK']\n",
    "xs_TNB_training, xs_TNB_test, y_TNB_training, y_TNB_test = train_test_split(Xs_TNB, ONTASK_TNB, test_size = 0.2)"
   ]
  },
  {
   "cell_type": "markdown",
   "id": "131a7baf",
   "metadata": {},
   "source": [
    "#### Step 2: retrain model with just training data"
   ]
  },
  {
   "cell_type": "code",
   "execution_count": 10,
   "id": "bfc5f1a5",
   "metadata": {},
   "outputs": [
    {
     "data": {
      "text/plain": [
       "GaussianNB()"
      ]
     },
     "execution_count": 10,
     "metadata": {},
     "output_type": "execute_result"
    }
   ],
   "source": [
    "classNBModel = GaussianNB()\n",
    "classNBModel.fit(xs_TNB_training, y_TNB_training)"
   ]
  },
  {
   "cell_type": "markdown",
   "id": "e0a9fa6a",
   "metadata": {},
   "source": [
    "#### Step 3: feed the Xs in the testing dataset and obtain the predicted Ys"
   ]
  },
  {
   "cell_type": "code",
   "execution_count": 16,
   "id": "9c7bb40d",
   "metadata": {},
   "outputs": [],
   "source": [
    "# Using the Xs to obtain the predicted Ys\n",
    "ONTASK_pred_NB = classNBModel.predict(xs_TNB_test)"
   ]
  },
  {
   "cell_type": "markdown",
   "id": "c20d5db4",
   "metadata": {},
   "source": [
    "#### Step 4: compare the predicted Ys with what is actually in the testing dataset (the ground truth) and obtain the confusion matrix"
   ]
  },
  {
   "cell_type": "code",
   "execution_count": 13,
   "id": "cb18e2bb",
   "metadata": {},
   "outputs": [
    {
     "name": "stdout",
     "output_type": "stream",
     "text": [
      "[[   0 1460]\n",
      " [   0 2977]]\n"
     ]
    }
   ],
   "source": [
    "from sklearn.metrics import confusion_matrix\n",
    "print(confusion_matrix(y_TNB_test, ONTASK_pred_NB))"
   ]
  },
  {
   "cell_type": "markdown",
   "id": "bd392c9b",
   "metadata": {},
   "source": [
    "#### Step 5: obtain accuracy score"
   ]
  },
  {
   "cell_type": "code",
   "execution_count": 14,
   "id": "7ecf5e5f",
   "metadata": {},
   "outputs": [
    {
     "name": "stdout",
     "output_type": "stream",
     "text": [
      "The accuracy for the naive bayes model 67.09488393058372 %\n"
     ]
    }
   ],
   "source": [
    "from sklearn.metrics import accuracy_score\n",
    "ac_NB = accuracy_score(y_TNB_test, ONTASK_pred_NB)\n",
    "print(\"The accuracy for the naive bayes model\", ac_NB*100, \"%\")"
   ]
  },
  {
   "cell_type": "code",
   "execution_count": null,
   "id": "8d297fb8",
   "metadata": {},
   "outputs": [],
   "source": [
    "# The accuracy for the naive bayes model is 67%\n",
    "# This means that this is a better predictor of on task behavior versus just randomly guessing (around 50%)\n",
    "# However, it is still less accurate than a blind guess (around 70%)"
   ]
  }
 ],
 "metadata": {
  "kernelspec": {
   "display_name": "Python 3",
   "language": "python",
   "name": "python3"
  },
  "language_info": {
   "codemirror_mode": {
    "name": "ipython",
    "version": 3
   },
   "file_extension": ".py",
   "mimetype": "text/x-python",
   "name": "python",
   "nbconvert_exporter": "python",
   "pygments_lexer": "ipython3",
   "version": "3.8.8"
  }
 },
 "nbformat": 4,
 "nbformat_minor": 5
}
